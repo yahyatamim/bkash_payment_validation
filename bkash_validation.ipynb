{
 "cells": [
  {
   "cell_type": "code",
   "execution_count": null,
   "id": "41cd5ee0",
   "metadata": {
    "ExecuteTime": {
     "end_time": "2021-06-19T10:35:10.465831Z",
     "start_time": "2021-06-19T10:35:09.753182Z"
    }
   },
   "outputs": [],
   "source": [
    "from IPython.display import YouTubeVideo\n",
    "\n",
    "YouTubeVideo('7uDYFF54d64', width=800, height='450' )"
   ]
  },
  {
   "cell_type": "code",
   "execution_count": null,
   "id": "b5eae1c1",
   "metadata": {
    "ExecuteTime": {
     "end_time": "2021-06-19T10:40:57.730496Z",
     "start_time": "2021-06-19T10:40:57.723516Z"
    }
   },
   "outputs": [],
   "source": [
    "# your default firefox progile directory in your pc.\n",
    "user_firefox_profile = r'C:\\Users\\username\\AppData\\Roaming\\Mozilla\\Firefox\\Profiles\\ivex6zzb.default-release'\n",
    "\n",
    "# url for your perticular SMS thread\n",
    "bkash_sms_url = 'https://messages.google.com/web/conversations/123'\n",
    "\n",
    "# sheet id from your google sheet, for detail understanding, please watch the attached youtube video.\n",
    "google_sheet_id = '1LpVcbIMFzY7ZoX42J5j8e7uFuF4AaNPW2jOzvK-EYE0'\n",
    "\n",
    "# transection id column name in your google sheet.\n",
    "joining_column_name = 'Transection ID'\n",
    "\n",
    "# file name for save validation data in your pc, it must be a csv file.\n",
    "file_name = 'validated_data.csv'\n",
    "\n",
    "# your gmail address, it will be used for sendng mail.\n",
    "sender = 'yourgmailabcxyz@gmail.com'\n",
    "\n",
    "# password for your gmail account. please refer to the video instruction.\n",
    "credential = 'hxtmadtlwbdiyfg'\n",
    "\n",
    "# your mail subject.\n",
    "subject = ''\n",
    "\n",
    "# text of your mail body.\n",
    "mail_body = ''''''"
   ]
  },
  {
   "cell_type": "code",
   "execution_count": null,
   "id": "c061d68d",
   "metadata": {
    "ExecuteTime": {
     "end_time": "2021-06-19T10:37:14.977034Z",
     "start_time": "2021-06-19T10:37:14.965058Z"
    }
   },
   "outputs": [],
   "source": [
    "# install the necessary libraries. it need to run for once.\n",
    "# Caution! this script is meant to run on windows pc. It wont work on other systems without modification.\n",
    "\n",
    "# !pip install selenium\n",
    "# !pip install pandas\n",
    "# !pip install yagmail"
   ]
  },
  {
   "cell_type": "code",
   "execution_count": null,
   "id": "630b23fa",
   "metadata": {
    "ExecuteTime": {
     "end_time": "2021-06-19T10:37:32.059432Z",
     "start_time": "2021-06-19T10:37:17.183932Z"
    }
   },
   "outputs": [],
   "source": [
    "from selenium import webdriver\n",
    "from selenium.webdriver.firefox.webdriver import FirefoxProfile\n",
    "import time\n",
    "\n",
    "# load the provided default firefox user frofile to selenium, this will helps to bypass the loging process\n",
    "profile = FirefoxProfile(user_firefox_profile)\n",
    "\n",
    "driver = webdriver.Firefox(profile)\n",
    "\n",
    "# browse to messages for web website. it should automatically login.\n",
    "driver.get('https://messages.google.com/web')"
   ]
  },
  {
   "cell_type": "code",
   "execution_count": null,
   "id": "1fca67ae",
   "metadata": {
    "ExecuteTime": {
     "end_time": "2021-06-19T10:39:06.826464Z",
     "start_time": "2021-06-19T10:38:55.921412Z"
    }
   },
   "outputs": [],
   "source": [
    "# browse to particular sms thrade and wait for 10 second or manually wait until the page is fully loaded.\n",
    "driver.get(bkash_sms_url)\n",
    "time.sleep(10)"
   ]
  },
  {
   "cell_type": "code",
   "execution_count": null,
   "id": "84b65c1f",
   "metadata": {
    "ExecuteTime": {
     "end_time": "2021-06-19T10:39:36.129017Z",
     "start_time": "2021-06-19T10:39:35.964567Z"
    },
    "scrolled": true
   },
   "outputs": [],
   "source": [
    "# find the html tags by class name which contains text sms.\n",
    "elements = driver.find_elements_by_class_name(r'text-msg-content')\n",
    "\n",
    "# finally grab the text part and store the string in a list named messages.\n",
    "messages = []\n",
    "for element in elements:\n",
    "    messages.append(element.text)\n",
    "\n",
    "messages"
   ]
  },
  {
   "cell_type": "code",
   "execution_count": null,
   "id": "fb099f1e",
   "metadata": {
    "ExecuteTime": {
     "end_time": "2021-06-19T10:39:44.021858Z",
     "start_time": "2021-06-19T10:39:42.523193Z"
    }
   },
   "outputs": [],
   "source": [
    "import re\n",
    "import pandas as pd\n",
    "\n",
    "\n",
    "# this function will return the transection type as a string based on\n",
    "# matching group of words contains in the input string/text sms.\n",
    "def transection_type(input_string=''):\n",
    "    transec_type_dict = {\n",
    "        'cash_in': 'Cash In Tk',\n",
    "        'cash_out': 'Cash Out Tk',\n",
    "        'send_money': 'Send Money Tk',\n",
    "        'receive_money': 'You have received Tk'\n",
    "    }\n",
    "    for key in transec_type_dict:\n",
    "        if transec_type_dict[key] in input_string:\n",
    "            return key\n",
    "    else:\n",
    "        return 'unknown'\n",
    "\n",
    "\n",
    "# this function find regular expression pattern match in input string and return the findings as a dictionary.\n",
    "def extract_info(input_string=''):\n",
    "    pattern_dict = {\n",
    "        'trxId': r'\\b[A-Z\\d]{10}\\b',\n",
    "        'phn_num': r'01[3-9]\\d{8}',\n",
    "        'tk_amount': r'[\\d,]+\\.\\d+',\n",
    "        'date_time': r'[\\d/]+ \\d+:\\d+'\n",
    "    }\n",
    "    info_dict = {}\n",
    "    for key in pattern_dict:\n",
    "        info_dict[key] = re.findall(pattern_dict[key], input_string)[0]\n",
    "    info_dict['transec_type'] = transection_type(input_string)\n",
    "    info_dict['mail_status'] = None\n",
    "    return info_dict\n",
    "\n",
    "\n",
    "# look for each sms which contains a phone number and extract the information\n",
    "# using extract_info() function and add them to a list named info_list.\n",
    "info_list = []\n",
    "for message in messages:\n",
    "    if re.findall(r'01[3-9]\\d{8}', message):\n",
    "        info_list.append(extract_info(message))\n",
    "    else:\n",
    "        continue\n",
    "\n",
    "# create a pandas dataframe using the list just created.\n",
    "info_df = pd.DataFrame(info_list)\n",
    "info_df"
   ]
  },
  {
   "cell_type": "code",
   "execution_count": null,
   "id": "032437b5",
   "metadata": {
    "ExecuteTime": {
     "end_time": "2021-06-19T10:41:13.077806Z",
     "start_time": "2021-06-19T10:41:11.679575Z"
    }
   },
   "outputs": [],
   "source": [
    "import os\n",
    "\n",
    "# load data from google sheet as pandas dataframe.\n",
    "google_sheet_location = f'https://docs.google.com/spreadsheets/d/{google_sheet_id}/export?format=csv'\n",
    "client_df = pd.read_csv(google_sheet_location)\n",
    "\n",
    "# join two dataframe using columns which contains same information, in this case we are joining on transection_Id.\n",
    "joined_df = pd.merge(left=client_df,\n",
    "                     right=info_df,\n",
    "                     left_on=joining_column_name,\n",
    "                     right_on='trxId',\n",
    "                     how='left')\n",
    "\n",
    "# save the joined dataframe as a csv file if it is not saved previously.\n",
    "# if it is saved previously then look for new information. if found any, add them to the end of our existing csv file.\n",
    "if os.path.exists(file_name):\n",
    "    previous_df = pd.read_csv(file_name)\n",
    "    new_info_df = joined_df[~joined_df[joining_column_name].\n",
    "                            isin(previous_df[joining_column_name])]\n",
    "    updated_df = pd.concat([previous_df, new_info_df])\n",
    "    updated_df.to_csv(file_name, index=False)\n",
    "else:\n",
    "    joined_df.to_csv(file_name, index=False)\n",
    "\n",
    "joined_df"
   ]
  },
  {
   "cell_type": "code",
   "execution_count": null,
   "id": "b6afb18c",
   "metadata": {
    "ExecuteTime": {
     "end_time": "2021-06-19T10:41:54.488336Z",
     "start_time": "2021-06-19T10:41:54.359892Z"
    }
   },
   "outputs": [],
   "source": [
    "import yagmail\n",
    "\n",
    "# inititate yagmail providing critical login info.\n",
    "yag = yagmail.SMTP(sender, credential)\n",
    "\n",
    "# load the saved csv file.\n",
    "mail_df = pd.read_csv(file_name)\n",
    "\n",
    "\n",
    "# This function will get each row of given dataframe from pandas apply method and modify it.\n",
    "# and return the modified row to to pandas apply method.\n",
    "# Main logic for this function is, if we didn't send email to a perticular person previously\n",
    "# and his given transection ID is matched with our received bkash transection sms, then this\n",
    "# person is a verified person and we should sent him a confirmation email.\n",
    "# if a persons given transection Id is not matched with our bkash transection sms then \n",
    "# we will skip this person and don't send any email to him.\n",
    "def mail_n_update(row):\n",
    "    if row['mail_status'] != 'sent':\n",
    "        if pd.isna(row['trxId']):\n",
    "            row['mail_status'] = 'skipped'\n",
    "            row['transec_type'] = 'not_matched!'\n",
    "            print(row.name, row['Name'], '<trxId not matched>')\n",
    "        else:\n",
    "            try:\n",
    "                yag.send(to=row['email'], subject=subject, contents=mail_body)\n",
    "                row['mail_status'] = 'sent'\n",
    "                print(row.name, row['Name'], '<sent>')\n",
    "            except:\n",
    "                row['mail_status'] = 'failed'\n",
    "                print(row.name, row['Name'], '<failed>')\n",
    "    else:\n",
    "        print(row.name, row['Name'], '<previously sent>')\n",
    "    return row\n",
    "\n",
    "\n",
    "mail_df = mail_df.apply(mail_n_update, axis=1)\n",
    "\n",
    "# sometimes pandas apply method alter the order of columns in dataframe, \n",
    "# this line will rearrange the columns in correct order.\n",
    "mail_df = mail_df[joined_df.columns]\n",
    "\n",
    "mail_df.to_csv(file_name, index=False)\n",
    "mail_df"
   ]
  }
 ],
 "metadata": {
  "kernelspec": {
   "display_name": "Python 3",
   "language": "python",
   "name": "python3"
  },
  "language_info": {
   "codemirror_mode": {
    "name": "ipython",
    "version": 3
   },
   "file_extension": ".py",
   "mimetype": "text/x-python",
   "name": "python",
   "nbconvert_exporter": "python",
   "pygments_lexer": "ipython3",
   "version": "3.9.5"
  },
  "varInspector": {
   "cols": {
    "lenName": 16,
    "lenType": 16,
    "lenVar": 40
   },
   "kernels_config": {
    "python": {
     "delete_cmd_postfix": "",
     "delete_cmd_prefix": "del ",
     "library": "var_list.py",
     "varRefreshCmd": "print(var_dic_list())"
    },
    "r": {
     "delete_cmd_postfix": ") ",
     "delete_cmd_prefix": "rm(",
     "library": "var_list.r",
     "varRefreshCmd": "cat(var_dic_list()) "
    }
   },
   "types_to_exclude": [
    "module",
    "function",
    "builtin_function_or_method",
    "instance",
    "_Feature"
   ],
   "window_display": false
  }
 },
 "nbformat": 4,
 "nbformat_minor": 5
}
